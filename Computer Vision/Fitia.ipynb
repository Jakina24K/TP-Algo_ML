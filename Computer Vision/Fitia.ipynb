{
 "cells": [
  {
   "cell_type": "markdown",
   "metadata": {},
   "source": [
    "Nom: RAJOHNSON\n",
    "Prénom : FITIA\n",
    "Classe : IGGLIA 4 \n",
    "N° : 02\n",
    "\n",
    "Q1 : Vérifier l’environnement permet d’éviter les erreurs et de s’assurer que les bibliothèques utilisées sont compatibles. Cela aide à travailler sans problème dès le début du projet.\n",
    "\n",
    "Q3 : Si certaines classes ont trop ou trop peu d’images, ou si les images sont de mauvaise qualité, le modèle risque d’apprendre de manière incorrecte. Pour éviter cela, on peut équilibrer les classes et améliorer la qualité des images avant l’entraînement.\n",
    "\n",
    "Q5 : Un mauvais choix d’hyperparamètres peut empêcher le modèle d’apprendre correctement. Par exemple, un taux d’apprentissage trop élevé peut rendre l’entraînement instable, et un taux trop bas peut le ralentir. Il est important de bien ajuster ces paramètres pour de meilleurs résultats.\n",
    "\n",
    "Q6 : La perte et la précision montrent si le modèle fonctionne bien. Si le test donne de moins bons résultats que l’entraînement, cela peut indiquer un surapprentissage. Pour améliorer cela, on peut ajouter plus de données, utiliser des techniques comme la régularisation ou modifier certains paramètres."
   ]
  }
 ],
 "metadata": {
  "language_info": {
   "name": "python"
  }
 },
 "nbformat": 4,
 "nbformat_minor": 2
}
